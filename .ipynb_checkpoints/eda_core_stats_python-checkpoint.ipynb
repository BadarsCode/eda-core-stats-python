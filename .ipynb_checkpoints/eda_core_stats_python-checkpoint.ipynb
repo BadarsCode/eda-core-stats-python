{
 "cells": [
  {
   "cell_type": "code",
   "execution_count": 22,
   "id": "68d1fac8-48d7-4e18-9f21-947b1b056260",
   "metadata": {},
   "outputs": [],
   "source": [
    "import pandas as pd\n",
    "import numpy as np\n",
    "import matplotlib.pyplot as plt\n",
    "import seaborn as sns\n",
    "import plotly as ply\n",
    "from scipy import stats"
   ]
  },
  {
   "cell_type": "markdown",
   "id": "88c2494c-4743-468f-bf1f-70607c8dbf5b",
   "metadata": {},
   "source": [
    "# Load DataSet\n"
   ]
  },
  {
   "cell_type": "code",
   "execution_count": 2,
   "id": "a83f6dad-7c2b-48f9-916d-161a62ae891e",
   "metadata": {},
   "outputs": [],
   "source": [
    "data = {\n",
    "    \"ID\": range(1, 11),\n",
    "    \"Age\": [22, 25, 27, 35, 40, 29, 31, 45, 50, 28],\n",
    "    \"Salary\": [2500, 3000, 4000, 4500, 5000, 3200, 3700, 6000, 7000, 3100],\n",
    "    \"Purchases\": [2, 5, 3, 6, 8, 2, 4, 10, 12, 1],\n",
    "    \"Hours_on_Website\": [5, 7, 6, 4, 8, 2, 5, 9, 10, 3],\n",
    "    \"Customer_Visits\": [1, 2, 1, 3, 4, 1, 2, 5, 6, 1]\n",
    "}"
   ]
  },
  {
   "cell_type": "code",
   "execution_count": 3,
   "id": "cce271ea-9bb5-4f78-aafd-f9f1f89c5f87",
   "metadata": {},
   "outputs": [
    {
     "data": {
      "text/plain": [
       "[22, 25, 27, 35, 40, 29, 31, 45, 50, 28]"
      ]
     },
     "execution_count": 3,
     "metadata": {},
     "output_type": "execute_result"
    }
   ],
   "source": [
    "data['Age']"
   ]
  },
  {
   "cell_type": "code",
   "execution_count": 5,
   "id": "38a0c739-f823-43ae-8370-ed1af0f36150",
   "metadata": {},
   "outputs": [
    {
     "data": {
      "text/html": [
       "<div>\n",
       "<style scoped>\n",
       "    .dataframe tbody tr th:only-of-type {\n",
       "        vertical-align: middle;\n",
       "    }\n",
       "\n",
       "    .dataframe tbody tr th {\n",
       "        vertical-align: top;\n",
       "    }\n",
       "\n",
       "    .dataframe thead th {\n",
       "        text-align: right;\n",
       "    }\n",
       "</style>\n",
       "<table border=\"1\" class=\"dataframe\">\n",
       "  <thead>\n",
       "    <tr style=\"text-align: right;\">\n",
       "      <th></th>\n",
       "      <th>ID</th>\n",
       "      <th>Age</th>\n",
       "      <th>Salary</th>\n",
       "      <th>Purchases</th>\n",
       "      <th>Hours_on_Website</th>\n",
       "      <th>Customer_Visits</th>\n",
       "    </tr>\n",
       "  </thead>\n",
       "  <tbody>\n",
       "    <tr>\n",
       "      <th>0</th>\n",
       "      <td>1</td>\n",
       "      <td>22</td>\n",
       "      <td>2500</td>\n",
       "      <td>2</td>\n",
       "      <td>5</td>\n",
       "      <td>1</td>\n",
       "    </tr>\n",
       "    <tr>\n",
       "      <th>1</th>\n",
       "      <td>2</td>\n",
       "      <td>25</td>\n",
       "      <td>3000</td>\n",
       "      <td>5</td>\n",
       "      <td>7</td>\n",
       "      <td>2</td>\n",
       "    </tr>\n",
       "    <tr>\n",
       "      <th>2</th>\n",
       "      <td>3</td>\n",
       "      <td>27</td>\n",
       "      <td>4000</td>\n",
       "      <td>3</td>\n",
       "      <td>6</td>\n",
       "      <td>1</td>\n",
       "    </tr>\n",
       "    <tr>\n",
       "      <th>3</th>\n",
       "      <td>4</td>\n",
       "      <td>35</td>\n",
       "      <td>4500</td>\n",
       "      <td>6</td>\n",
       "      <td>4</td>\n",
       "      <td>3</td>\n",
       "    </tr>\n",
       "    <tr>\n",
       "      <th>4</th>\n",
       "      <td>5</td>\n",
       "      <td>40</td>\n",
       "      <td>5000</td>\n",
       "      <td>8</td>\n",
       "      <td>8</td>\n",
       "      <td>4</td>\n",
       "    </tr>\n",
       "  </tbody>\n",
       "</table>\n",
       "</div>"
      ],
      "text/plain": [
       "   ID  Age  Salary  Purchases  Hours_on_Website  Customer_Visits\n",
       "0   1   22    2500          2                 5                1\n",
       "1   2   25    3000          5                 7                2\n",
       "2   3   27    4000          3                 6                1\n",
       "3   4   35    4500          6                 4                3\n",
       "4   5   40    5000          8                 8                4"
      ]
     },
     "execution_count": 5,
     "metadata": {},
     "output_type": "execute_result"
    }
   ],
   "source": [
    "df = pd.DataFrame(data , columns=data.keys())\n",
    "df.head()"
   ]
  },
  {
   "cell_type": "code",
   "execution_count": null,
   "id": "429a4d50-3497-417e-ab50-80a045e203e9",
   "metadata": {},
   "outputs": [],
   "source": []
  },
  {
   "cell_type": "code",
   "execution_count": 7,
   "id": "be0c952c-fe3a-4977-a456-6d436c4f63a9",
   "metadata": {},
   "outputs": [
    {
     "data": {
      "text/plain": [
       "(10, 6)"
      ]
     },
     "execution_count": 7,
     "metadata": {},
     "output_type": "execute_result"
    }
   ],
   "source": [
    "df.shape"
   ]
  },
  {
   "cell_type": "code",
   "execution_count": 8,
   "id": "60b1e41a-406b-4792-9aa2-1a3b8734e322",
   "metadata": {},
   "outputs": [
    {
     "name": "stdout",
     "output_type": "stream",
     "text": [
      "<class 'pandas.core.frame.DataFrame'>\n",
      "RangeIndex: 10 entries, 0 to 9\n",
      "Data columns (total 6 columns):\n",
      " #   Column            Non-Null Count  Dtype\n",
      "---  ------            --------------  -----\n",
      " 0   ID                10 non-null     int64\n",
      " 1   Age               10 non-null     int64\n",
      " 2   Salary            10 non-null     int64\n",
      " 3   Purchases         10 non-null     int64\n",
      " 4   Hours_on_Website  10 non-null     int64\n",
      " 5   Customer_Visits   10 non-null     int64\n",
      "dtypes: int64(6)\n",
      "memory usage: 612.0 bytes\n"
     ]
    }
   ],
   "source": [
    "df.info()"
   ]
  },
  {
   "cell_type": "markdown",
   "id": "240b3f98-c018-45a1-998b-ade456ca312b",
   "metadata": {},
   "source": [
    "# Descriptive Statistics"
   ]
  },
  {
   "cell_type": "code",
   "execution_count": 11,
   "id": "6e0088bd-00b2-48ab-aae5-050d2d40b54c",
   "metadata": {},
   "outputs": [
    {
     "name": "stdout",
     "output_type": "stream",
     "text": [
      "Mean of Salary:\t\t 4200.0\n",
      "Median of Salary:\t 3850.0\n",
      "Mode of Salary:\t\t 2500\n"
     ]
    }
   ],
   "source": [
    "print(\"Mean of Salary:\\t\\t\", df[\"Salary\"].mean())\n",
    "print(\"Median of Salary:\\t\", df['Salary'].median())\n",
    "print('Mode of Salary:\\t\\t', df['Salary'].mode()[0])"
   ]
  },
  {
   "cell_type": "code",
   "execution_count": 12,
   "id": "b51556ab-7fe4-42bd-836f-d230a8344ff8",
   "metadata": {},
   "outputs": [
    {
     "data": {
      "text/html": [
       "<div>\n",
       "<style scoped>\n",
       "    .dataframe tbody tr th:only-of-type {\n",
       "        vertical-align: middle;\n",
       "    }\n",
       "\n",
       "    .dataframe tbody tr th {\n",
       "        vertical-align: top;\n",
       "    }\n",
       "\n",
       "    .dataframe thead th {\n",
       "        text-align: right;\n",
       "    }\n",
       "</style>\n",
       "<table border=\"1\" class=\"dataframe\">\n",
       "  <thead>\n",
       "    <tr style=\"text-align: right;\">\n",
       "      <th></th>\n",
       "      <th>ID</th>\n",
       "      <th>Age</th>\n",
       "      <th>Salary</th>\n",
       "      <th>Purchases</th>\n",
       "      <th>Hours_on_Website</th>\n",
       "      <th>Customer_Visits</th>\n",
       "    </tr>\n",
       "  </thead>\n",
       "  <tbody>\n",
       "    <tr>\n",
       "      <th>count</th>\n",
       "      <td>10.00000</td>\n",
       "      <td>10.000000</td>\n",
       "      <td>10.000000</td>\n",
       "      <td>10.000000</td>\n",
       "      <td>10.000000</td>\n",
       "      <td>10.000000</td>\n",
       "    </tr>\n",
       "    <tr>\n",
       "      <th>mean</th>\n",
       "      <td>5.50000</td>\n",
       "      <td>33.200000</td>\n",
       "      <td>4200.000000</td>\n",
       "      <td>5.300000</td>\n",
       "      <td>5.900000</td>\n",
       "      <td>2.600000</td>\n",
       "    </tr>\n",
       "    <tr>\n",
       "      <th>std</th>\n",
       "      <td>3.02765</td>\n",
       "      <td>9.138441</td>\n",
       "      <td>1439.135543</td>\n",
       "      <td>3.683296</td>\n",
       "      <td>2.601282</td>\n",
       "      <td>1.837873</td>\n",
       "    </tr>\n",
       "    <tr>\n",
       "      <th>min</th>\n",
       "      <td>1.00000</td>\n",
       "      <td>22.000000</td>\n",
       "      <td>2500.000000</td>\n",
       "      <td>1.000000</td>\n",
       "      <td>2.000000</td>\n",
       "      <td>1.000000</td>\n",
       "    </tr>\n",
       "    <tr>\n",
       "      <th>25%</th>\n",
       "      <td>3.25000</td>\n",
       "      <td>27.250000</td>\n",
       "      <td>3125.000000</td>\n",
       "      <td>2.250000</td>\n",
       "      <td>4.250000</td>\n",
       "      <td>1.000000</td>\n",
       "    </tr>\n",
       "    <tr>\n",
       "      <th>50%</th>\n",
       "      <td>5.50000</td>\n",
       "      <td>30.000000</td>\n",
       "      <td>3850.000000</td>\n",
       "      <td>4.500000</td>\n",
       "      <td>5.500000</td>\n",
       "      <td>2.000000</td>\n",
       "    </tr>\n",
       "    <tr>\n",
       "      <th>75%</th>\n",
       "      <td>7.75000</td>\n",
       "      <td>38.750000</td>\n",
       "      <td>4875.000000</td>\n",
       "      <td>7.500000</td>\n",
       "      <td>7.750000</td>\n",
       "      <td>3.750000</td>\n",
       "    </tr>\n",
       "    <tr>\n",
       "      <th>max</th>\n",
       "      <td>10.00000</td>\n",
       "      <td>50.000000</td>\n",
       "      <td>7000.000000</td>\n",
       "      <td>12.000000</td>\n",
       "      <td>10.000000</td>\n",
       "      <td>6.000000</td>\n",
       "    </tr>\n",
       "  </tbody>\n",
       "</table>\n",
       "</div>"
      ],
      "text/plain": [
       "             ID        Age       Salary  Purchases  Hours_on_Website  \\\n",
       "count  10.00000  10.000000    10.000000  10.000000         10.000000   \n",
       "mean    5.50000  33.200000  4200.000000   5.300000          5.900000   \n",
       "std     3.02765   9.138441  1439.135543   3.683296          2.601282   \n",
       "min     1.00000  22.000000  2500.000000   1.000000          2.000000   \n",
       "25%     3.25000  27.250000  3125.000000   2.250000          4.250000   \n",
       "50%     5.50000  30.000000  3850.000000   4.500000          5.500000   \n",
       "75%     7.75000  38.750000  4875.000000   7.500000          7.750000   \n",
       "max    10.00000  50.000000  7000.000000  12.000000         10.000000   \n",
       "\n",
       "       Customer_Visits  \n",
       "count        10.000000  \n",
       "mean          2.600000  \n",
       "std           1.837873  \n",
       "min           1.000000  \n",
       "25%           1.000000  \n",
       "50%           2.000000  \n",
       "75%           3.750000  \n",
       "max           6.000000  "
      ]
     },
     "execution_count": 12,
     "metadata": {},
     "output_type": "execute_result"
    }
   ],
   "source": [
    "df.describe()"
   ]
  },
  {
   "cell_type": "code",
   "execution_count": 15,
   "id": "1efb1091-ae30-4604-8203-ce087cb1da16",
   "metadata": {},
   "outputs": [
    {
     "name": "stdout",
     "output_type": "stream",
     "text": [
      "variance of Purchases:\t\t\t 13.566666666666666\n",
      "Standard Daviation of Purchases:\t 3.683295625749672\n"
     ]
    }
   ],
   "source": [
    "print('variance of Purchases:\\t\\t\\t', df['Purchases'].var())\n",
    "print('Standard Daviation of Purchases:\\t', df['Purchases'].std())"
   ]
  },
  {
   "cell_type": "code",
   "execution_count": 17,
   "id": "6df09557-6d1f-4269-9452-212465b1d2d0",
   "metadata": {},
   "outputs": [
    {
     "name": "stdout",
     "output_type": "stream",
     "text": [
      "Range of Age:\t 28\n"
     ]
    }
   ],
   "source": [
    "print('Range of Age:\\t', df['Age'].max()-df['Age'].min())"
   ]
  },
  {
   "cell_type": "code",
   "execution_count": 19,
   "id": "f0a729e6-6431-4447-bc5f-3652d3ca830b",
   "metadata": {},
   "outputs": [
    {
     "name": "stdout",
     "output_type": "stream",
     "text": [
      "25 percentile: 4.25\n",
      "25 percentile: 5.5\n",
      "25 percentile: 7.75\n"
     ]
    }
   ],
   "source": [
    "print(\"25 percentile:\", np.percentile(df['Hours_on_Website'], 25))\n",
    "print(\"50 percentile:\", np.percentile(df['Hours_on_Website'], 50))\n",
    "print(\"75 percentile:\", np.percentile(df['Hours_on_Website'], 75))"
   ]
  },
  {
   "cell_type": "code",
   "execution_count": 20,
   "id": "f3e0a2a4-4614-4330-8651-73a4812d296b",
   "metadata": {},
   "outputs": [
    {
     "name": "stdout",
     "output_type": "stream",
     "text": [
      "IQR: 3.5\n"
     ]
    }
   ],
   "source": [
    "# IQR : inter quartile Range\n",
    "q1 = np.percentile(df['Hours_on_Website'], 25)\n",
    "q3 = np.percentile(df['Hours_on_Website'],75)\n",
    "IQR = q3 - q1\n",
    "print('IQR:', IQR)"
   ]
  },
  {
   "cell_type": "code",
   "execution_count": 23,
   "id": "3bb9398e-4f13-4540-9bff-8e8611799356",
   "metadata": {},
   "outputs": [
    {
     "name": "stdout",
     "output_type": "stream",
     "text": [
      "\n",
      "Skewness of Salary: 0.755160607240429\n",
      "Kurtosis of Salary: -0.5439660888946194\n"
     ]
    }
   ],
   "source": [
    "# Skewness & Kurtosis (Salary)\n",
    "print(\"\\nSkewness of Salary:\", stats.skew(df[\"Salary\"]))\n",
    "print(\"Kurtosis of Salary:\", stats.kurtosis(df[\"Salary\"]))"
   ]
  },
  {
   "cell_type": "code",
   "execution_count": null,
   "id": "b7f35171-2ba7-4864-9b3d-4ccc79ebdb6d",
   "metadata": {},
   "outputs": [],
   "source": []
  }
 ],
 "metadata": {
  "kernelspec": {
   "display_name": "Python 3 (ipykernel)",
   "language": "python",
   "name": "python3"
  },
  "language_info": {
   "codemirror_mode": {
    "name": "ipython",
    "version": 3
   },
   "file_extension": ".py",
   "mimetype": "text/x-python",
   "name": "python",
   "nbconvert_exporter": "python",
   "pygments_lexer": "ipython3",
   "version": "3.12.7"
  }
 },
 "nbformat": 4,
 "nbformat_minor": 5
}
