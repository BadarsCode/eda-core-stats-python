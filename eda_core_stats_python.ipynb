{
 "cells": [
  {
   "cell_type": "code",
   "execution_count": 1,
   "id": "68d1fac8-48d7-4e18-9f21-947b1b056260",
   "metadata": {},
   "outputs": [],
   "source": [
    "import pandas as pd\n",
    "import numpy as np\n",
    "import matplotlib.pyplot as plt\n",
    "import seaborn as sns\n",
    "import plotly as ply"
   ]
  },
  {
   "cell_type": "markdown",
   "id": "88c2494c-4743-468f-bf1f-70607c8dbf5b",
   "metadata": {},
   "source": [
    "# Load DataSet\n"
   ]
  },
  {
   "cell_type": "code",
   "execution_count": 2,
   "id": "a83f6dad-7c2b-48f9-916d-161a62ae891e",
   "metadata": {},
   "outputs": [],
   "source": [
    "data = {\n",
    "    \"ID\": range(1, 11),\n",
    "    \"Age\": [22, 25, 27, 35, 40, 29, 31, 45, 50, 28],\n",
    "    \"Salary\": [2500, 3000, 4000, 4500, 5000, 3200, 3700, 6000, 7000, 3100],\n",
    "    \"Purchases\": [2, 5, 3, 6, 8, 2, 4, 10, 12, 1],\n",
    "    \"Hours_on_Website\": [5, 7, 6, 4, 8, 2, 5, 9, 10, 3],\n",
    "    \"Customer_Visits\": [1, 2, 1, 3, 4, 1, 2, 5, 6, 1]\n",
    "}"
   ]
  },
  {
   "cell_type": "code",
   "execution_count": 3,
   "id": "cce271ea-9bb5-4f78-aafd-f9f1f89c5f87",
   "metadata": {},
   "outputs": [
    {
     "data": {
      "text/plain": [
       "[22, 25, 27, 35, 40, 29, 31, 45, 50, 28]"
      ]
     },
     "execution_count": 3,
     "metadata": {},
     "output_type": "execute_result"
    }
   ],
   "source": [
    "data['Age']"
   ]
  },
  {
   "cell_type": "code",
   "execution_count": 5,
   "id": "38a0c739-f823-43ae-8370-ed1af0f36150",
   "metadata": {},
   "outputs": [
    {
     "data": {
      "text/html": [
       "<div>\n",
       "<style scoped>\n",
       "    .dataframe tbody tr th:only-of-type {\n",
       "        vertical-align: middle;\n",
       "    }\n",
       "\n",
       "    .dataframe tbody tr th {\n",
       "        vertical-align: top;\n",
       "    }\n",
       "\n",
       "    .dataframe thead th {\n",
       "        text-align: right;\n",
       "    }\n",
       "</style>\n",
       "<table border=\"1\" class=\"dataframe\">\n",
       "  <thead>\n",
       "    <tr style=\"text-align: right;\">\n",
       "      <th></th>\n",
       "      <th>ID</th>\n",
       "      <th>Age</th>\n",
       "      <th>Salary</th>\n",
       "      <th>Purchases</th>\n",
       "      <th>Hours_on_Website</th>\n",
       "      <th>Customer_Visits</th>\n",
       "    </tr>\n",
       "  </thead>\n",
       "  <tbody>\n",
       "    <tr>\n",
       "      <th>0</th>\n",
       "      <td>1</td>\n",
       "      <td>22</td>\n",
       "      <td>2500</td>\n",
       "      <td>2</td>\n",
       "      <td>5</td>\n",
       "      <td>1</td>\n",
       "    </tr>\n",
       "    <tr>\n",
       "      <th>1</th>\n",
       "      <td>2</td>\n",
       "      <td>25</td>\n",
       "      <td>3000</td>\n",
       "      <td>5</td>\n",
       "      <td>7</td>\n",
       "      <td>2</td>\n",
       "    </tr>\n",
       "    <tr>\n",
       "      <th>2</th>\n",
       "      <td>3</td>\n",
       "      <td>27</td>\n",
       "      <td>4000</td>\n",
       "      <td>3</td>\n",
       "      <td>6</td>\n",
       "      <td>1</td>\n",
       "    </tr>\n",
       "    <tr>\n",
       "      <th>3</th>\n",
       "      <td>4</td>\n",
       "      <td>35</td>\n",
       "      <td>4500</td>\n",
       "      <td>6</td>\n",
       "      <td>4</td>\n",
       "      <td>3</td>\n",
       "    </tr>\n",
       "    <tr>\n",
       "      <th>4</th>\n",
       "      <td>5</td>\n",
       "      <td>40</td>\n",
       "      <td>5000</td>\n",
       "      <td>8</td>\n",
       "      <td>8</td>\n",
       "      <td>4</td>\n",
       "    </tr>\n",
       "  </tbody>\n",
       "</table>\n",
       "</div>"
      ],
      "text/plain": [
       "   ID  Age  Salary  Purchases  Hours_on_Website  Customer_Visits\n",
       "0   1   22    2500          2                 5                1\n",
       "1   2   25    3000          5                 7                2\n",
       "2   3   27    4000          3                 6                1\n",
       "3   4   35    4500          6                 4                3\n",
       "4   5   40    5000          8                 8                4"
      ]
     },
     "execution_count": 5,
     "metadata": {},
     "output_type": "execute_result"
    }
   ],
   "source": [
    "df = pd.DataFrame(data , columns=data.keys())\n",
    "df.head()"
   ]
  },
  {
   "cell_type": "code",
   "execution_count": null,
   "id": "a7aedc58-4472-40a8-9930-f04b782a0b23",
   "metadata": {},
   "outputs": [],
   "source": []
  }
 ],
 "metadata": {
  "kernelspec": {
   "display_name": "Python 3 (ipykernel)",
   "language": "python",
   "name": "python3"
  },
  "language_info": {
   "codemirror_mode": {
    "name": "ipython",
    "version": 3
   },
   "file_extension": ".py",
   "mimetype": "text/x-python",
   "name": "python",
   "nbconvert_exporter": "python",
   "pygments_lexer": "ipython3",
   "version": "3.12.7"
  }
 },
 "nbformat": 4,
 "nbformat_minor": 5
}
